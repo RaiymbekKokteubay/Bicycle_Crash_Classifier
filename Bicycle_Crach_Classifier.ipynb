{
  "nbformat": 4,
  "nbformat_minor": 0,
  "metadata": {
    "colab": {
      "provenance": []
    },
    "kernelspec": {
      "name": "python3",
      "display_name": "Python 3"
    },
    "language_info": {
      "name": "python"
    },
    "accelerator": "GPU",
    "gpuClass": "standard",
    "widgets": {
      "application/vnd.jupyter.widget-state+json": {
        "b0f84676ba954dae9c0e45344a3fb869": {
          "model_module": "@jupyter-widgets/controls",
          "model_name": "HBoxModel",
          "model_module_version": "1.5.0",
          "state": {
            "_dom_classes": [],
            "_model_module": "@jupyter-widgets/controls",
            "_model_module_version": "1.5.0",
            "_model_name": "HBoxModel",
            "_view_count": null,
            "_view_module": "@jupyter-widgets/controls",
            "_view_module_version": "1.5.0",
            "_view_name": "HBoxView",
            "box_style": "",
            "children": [
              "IPY_MODEL_496b10b6357d496ca271f2bc156d9252",
              "IPY_MODEL_e499cd40651046c99ca945bec553165b",
              "IPY_MODEL_b89585677d474fda9810edd9573b55b8"
            ],
            "layout": "IPY_MODEL_13846be95f044d5f8fb8d70e784e77f3"
          }
        },
        "496b10b6357d496ca271f2bc156d9252": {
          "model_module": "@jupyter-widgets/controls",
          "model_name": "HTMLModel",
          "model_module_version": "1.5.0",
          "state": {
            "_dom_classes": [],
            "_model_module": "@jupyter-widgets/controls",
            "_model_module_version": "1.5.0",
            "_model_name": "HTMLModel",
            "_view_count": null,
            "_view_module": "@jupyter-widgets/controls",
            "_view_module_version": "1.5.0",
            "_view_name": "HTMLView",
            "description": "",
            "description_tooltip": null,
            "layout": "IPY_MODEL_f63619d62fc34ae5be4602fe3b5932e3",
            "placeholder": "​",
            "style": "IPY_MODEL_075131733cdf43ae8f3ca377975158fb",
            "value": "100%"
          }
        },
        "e499cd40651046c99ca945bec553165b": {
          "model_module": "@jupyter-widgets/controls",
          "model_name": "FloatProgressModel",
          "model_module_version": "1.5.0",
          "state": {
            "_dom_classes": [],
            "_model_module": "@jupyter-widgets/controls",
            "_model_module_version": "1.5.0",
            "_model_name": "FloatProgressModel",
            "_view_count": null,
            "_view_module": "@jupyter-widgets/controls",
            "_view_module_version": "1.5.0",
            "_view_name": "ProgressView",
            "bar_style": "success",
            "description": "",
            "description_tooltip": null,
            "layout": "IPY_MODEL_4608041709fe4bb1807456f3328ed984",
            "max": 102530333,
            "min": 0,
            "orientation": "horizontal",
            "style": "IPY_MODEL_2306d0bff0b440bda2fa195035be7fc0",
            "value": 102530333
          }
        },
        "b89585677d474fda9810edd9573b55b8": {
          "model_module": "@jupyter-widgets/controls",
          "model_name": "HTMLModel",
          "model_module_version": "1.5.0",
          "state": {
            "_dom_classes": [],
            "_model_module": "@jupyter-widgets/controls",
            "_model_module_version": "1.5.0",
            "_model_name": "HTMLModel",
            "_view_count": null,
            "_view_module": "@jupyter-widgets/controls",
            "_view_module_version": "1.5.0",
            "_view_name": "HTMLView",
            "description": "",
            "description_tooltip": null,
            "layout": "IPY_MODEL_95148338b1ad46d89e1b4d589b4c9582",
            "placeholder": "​",
            "style": "IPY_MODEL_f05196c704714059ab30e2462d740d22",
            "value": " 97.8M/97.8M [00:08&lt;00:00, 12.6MB/s]"
          }
        },
        "13846be95f044d5f8fb8d70e784e77f3": {
          "model_module": "@jupyter-widgets/base",
          "model_name": "LayoutModel",
          "model_module_version": "1.2.0",
          "state": {
            "_model_module": "@jupyter-widgets/base",
            "_model_module_version": "1.2.0",
            "_model_name": "LayoutModel",
            "_view_count": null,
            "_view_module": "@jupyter-widgets/base",
            "_view_module_version": "1.2.0",
            "_view_name": "LayoutView",
            "align_content": null,
            "align_items": null,
            "align_self": null,
            "border": null,
            "bottom": null,
            "display": null,
            "flex": null,
            "flex_flow": null,
            "grid_area": null,
            "grid_auto_columns": null,
            "grid_auto_flow": null,
            "grid_auto_rows": null,
            "grid_column": null,
            "grid_gap": null,
            "grid_row": null,
            "grid_template_areas": null,
            "grid_template_columns": null,
            "grid_template_rows": null,
            "height": null,
            "justify_content": null,
            "justify_items": null,
            "left": null,
            "margin": null,
            "max_height": null,
            "max_width": null,
            "min_height": null,
            "min_width": null,
            "object_fit": null,
            "object_position": null,
            "order": null,
            "overflow": null,
            "overflow_x": null,
            "overflow_y": null,
            "padding": null,
            "right": null,
            "top": null,
            "visibility": null,
            "width": null
          }
        },
        "f63619d62fc34ae5be4602fe3b5932e3": {
          "model_module": "@jupyter-widgets/base",
          "model_name": "LayoutModel",
          "model_module_version": "1.2.0",
          "state": {
            "_model_module": "@jupyter-widgets/base",
            "_model_module_version": "1.2.0",
            "_model_name": "LayoutModel",
            "_view_count": null,
            "_view_module": "@jupyter-widgets/base",
            "_view_module_version": "1.2.0",
            "_view_name": "LayoutView",
            "align_content": null,
            "align_items": null,
            "align_self": null,
            "border": null,
            "bottom": null,
            "display": null,
            "flex": null,
            "flex_flow": null,
            "grid_area": null,
            "grid_auto_columns": null,
            "grid_auto_flow": null,
            "grid_auto_rows": null,
            "grid_column": null,
            "grid_gap": null,
            "grid_row": null,
            "grid_template_areas": null,
            "grid_template_columns": null,
            "grid_template_rows": null,
            "height": null,
            "justify_content": null,
            "justify_items": null,
            "left": null,
            "margin": null,
            "max_height": null,
            "max_width": null,
            "min_height": null,
            "min_width": null,
            "object_fit": null,
            "object_position": null,
            "order": null,
            "overflow": null,
            "overflow_x": null,
            "overflow_y": null,
            "padding": null,
            "right": null,
            "top": null,
            "visibility": null,
            "width": null
          }
        },
        "075131733cdf43ae8f3ca377975158fb": {
          "model_module": "@jupyter-widgets/controls",
          "model_name": "DescriptionStyleModel",
          "model_module_version": "1.5.0",
          "state": {
            "_model_module": "@jupyter-widgets/controls",
            "_model_module_version": "1.5.0",
            "_model_name": "DescriptionStyleModel",
            "_view_count": null,
            "_view_module": "@jupyter-widgets/base",
            "_view_module_version": "1.2.0",
            "_view_name": "StyleView",
            "description_width": ""
          }
        },
        "4608041709fe4bb1807456f3328ed984": {
          "model_module": "@jupyter-widgets/base",
          "model_name": "LayoutModel",
          "model_module_version": "1.2.0",
          "state": {
            "_model_module": "@jupyter-widgets/base",
            "_model_module_version": "1.2.0",
            "_model_name": "LayoutModel",
            "_view_count": null,
            "_view_module": "@jupyter-widgets/base",
            "_view_module_version": "1.2.0",
            "_view_name": "LayoutView",
            "align_content": null,
            "align_items": null,
            "align_self": null,
            "border": null,
            "bottom": null,
            "display": null,
            "flex": null,
            "flex_flow": null,
            "grid_area": null,
            "grid_auto_columns": null,
            "grid_auto_flow": null,
            "grid_auto_rows": null,
            "grid_column": null,
            "grid_gap": null,
            "grid_row": null,
            "grid_template_areas": null,
            "grid_template_columns": null,
            "grid_template_rows": null,
            "height": null,
            "justify_content": null,
            "justify_items": null,
            "left": null,
            "margin": null,
            "max_height": null,
            "max_width": null,
            "min_height": null,
            "min_width": null,
            "object_fit": null,
            "object_position": null,
            "order": null,
            "overflow": null,
            "overflow_x": null,
            "overflow_y": null,
            "padding": null,
            "right": null,
            "top": null,
            "visibility": null,
            "width": null
          }
        },
        "2306d0bff0b440bda2fa195035be7fc0": {
          "model_module": "@jupyter-widgets/controls",
          "model_name": "ProgressStyleModel",
          "model_module_version": "1.5.0",
          "state": {
            "_model_module": "@jupyter-widgets/controls",
            "_model_module_version": "1.5.0",
            "_model_name": "ProgressStyleModel",
            "_view_count": null,
            "_view_module": "@jupyter-widgets/base",
            "_view_module_version": "1.2.0",
            "_view_name": "StyleView",
            "bar_color": null,
            "description_width": ""
          }
        },
        "95148338b1ad46d89e1b4d589b4c9582": {
          "model_module": "@jupyter-widgets/base",
          "model_name": "LayoutModel",
          "model_module_version": "1.2.0",
          "state": {
            "_model_module": "@jupyter-widgets/base",
            "_model_module_version": "1.2.0",
            "_model_name": "LayoutModel",
            "_view_count": null,
            "_view_module": "@jupyter-widgets/base",
            "_view_module_version": "1.2.0",
            "_view_name": "LayoutView",
            "align_content": null,
            "align_items": null,
            "align_self": null,
            "border": null,
            "bottom": null,
            "display": null,
            "flex": null,
            "flex_flow": null,
            "grid_area": null,
            "grid_auto_columns": null,
            "grid_auto_flow": null,
            "grid_auto_rows": null,
            "grid_column": null,
            "grid_gap": null,
            "grid_row": null,
            "grid_template_areas": null,
            "grid_template_columns": null,
            "grid_template_rows": null,
            "height": null,
            "justify_content": null,
            "justify_items": null,
            "left": null,
            "margin": null,
            "max_height": null,
            "max_width": null,
            "min_height": null,
            "min_width": null,
            "object_fit": null,
            "object_position": null,
            "order": null,
            "overflow": null,
            "overflow_x": null,
            "overflow_y": null,
            "padding": null,
            "right": null,
            "top": null,
            "visibility": null,
            "width": null
          }
        },
        "f05196c704714059ab30e2462d740d22": {
          "model_module": "@jupyter-widgets/controls",
          "model_name": "DescriptionStyleModel",
          "model_module_version": "1.5.0",
          "state": {
            "_model_module": "@jupyter-widgets/controls",
            "_model_module_version": "1.5.0",
            "_model_name": "DescriptionStyleModel",
            "_view_count": null,
            "_view_module": "@jupyter-widgets/base",
            "_view_module_version": "1.2.0",
            "_view_name": "StyleView",
            "description_width": ""
          }
        },
        "152fb8a25614463994919b9549d9a64c": {
          "model_module": "@jupyter-widgets/controls",
          "model_name": "HBoxModel",
          "model_module_version": "1.5.0",
          "state": {
            "_dom_classes": [],
            "_model_module": "@jupyter-widgets/controls",
            "_model_module_version": "1.5.0",
            "_model_name": "HBoxModel",
            "_view_count": null,
            "_view_module": "@jupyter-widgets/controls",
            "_view_module_version": "1.5.0",
            "_view_name": "HBoxView",
            "box_style": "",
            "children": [
              "IPY_MODEL_a0268b9ee7ca47d5b660385c73474c8f",
              "IPY_MODEL_6b97641761a64b4a982dd309d6eabfe9",
              "IPY_MODEL_53ebb413c58f47349ee8f105801418d3"
            ],
            "layout": "IPY_MODEL_6f6c793be5aa41a4a39ec4c1d04a2750"
          }
        },
        "a0268b9ee7ca47d5b660385c73474c8f": {
          "model_module": "@jupyter-widgets/controls",
          "model_name": "HTMLModel",
          "model_module_version": "1.5.0",
          "state": {
            "_dom_classes": [],
            "_model_module": "@jupyter-widgets/controls",
            "_model_module_version": "1.5.0",
            "_model_name": "HTMLModel",
            "_view_count": null,
            "_view_module": "@jupyter-widgets/controls",
            "_view_module_version": "1.5.0",
            "_view_name": "HTMLView",
            "description": "",
            "description_tooltip": null,
            "layout": "IPY_MODEL_26269aa1188047fd9484ea81b209aca0",
            "placeholder": "​",
            "style": "IPY_MODEL_1464868f0b86450d82405666988d35ba",
            "value": "100%"
          }
        },
        "6b97641761a64b4a982dd309d6eabfe9": {
          "model_module": "@jupyter-widgets/controls",
          "model_name": "FloatProgressModel",
          "model_module_version": "1.5.0",
          "state": {
            "_dom_classes": [],
            "_model_module": "@jupyter-widgets/controls",
            "_model_module_version": "1.5.0",
            "_model_name": "FloatProgressModel",
            "_view_count": null,
            "_view_module": "@jupyter-widgets/controls",
            "_view_module_version": "1.5.0",
            "_view_name": "ProgressView",
            "bar_style": "success",
            "description": "",
            "description_tooltip": null,
            "layout": "IPY_MODEL_ebf3c354889840c087f048c241377b93",
            "max": 241627721,
            "min": 0,
            "orientation": "horizontal",
            "style": "IPY_MODEL_74c8903051624152816a952eea6fd6cb",
            "value": 241627721
          }
        },
        "53ebb413c58f47349ee8f105801418d3": {
          "model_module": "@jupyter-widgets/controls",
          "model_name": "HTMLModel",
          "model_module_version": "1.5.0",
          "state": {
            "_dom_classes": [],
            "_model_module": "@jupyter-widgets/controls",
            "_model_module_version": "1.5.0",
            "_model_name": "HTMLModel",
            "_view_count": null,
            "_view_module": "@jupyter-widgets/controls",
            "_view_module_version": "1.5.0",
            "_view_name": "HTMLView",
            "description": "",
            "description_tooltip": null,
            "layout": "IPY_MODEL_02206d5c5a604d10b7b227f1df95661d",
            "placeholder": "​",
            "style": "IPY_MODEL_a5c387036f9545678102df6e8317e2c8",
            "value": " 230M/230M [00:02&lt;00:00, 122MB/s]"
          }
        },
        "6f6c793be5aa41a4a39ec4c1d04a2750": {
          "model_module": "@jupyter-widgets/base",
          "model_name": "LayoutModel",
          "model_module_version": "1.2.0",
          "state": {
            "_model_module": "@jupyter-widgets/base",
            "_model_module_version": "1.2.0",
            "_model_name": "LayoutModel",
            "_view_count": null,
            "_view_module": "@jupyter-widgets/base",
            "_view_module_version": "1.2.0",
            "_view_name": "LayoutView",
            "align_content": null,
            "align_items": null,
            "align_self": null,
            "border": null,
            "bottom": null,
            "display": null,
            "flex": null,
            "flex_flow": null,
            "grid_area": null,
            "grid_auto_columns": null,
            "grid_auto_flow": null,
            "grid_auto_rows": null,
            "grid_column": null,
            "grid_gap": null,
            "grid_row": null,
            "grid_template_areas": null,
            "grid_template_columns": null,
            "grid_template_rows": null,
            "height": null,
            "justify_content": null,
            "justify_items": null,
            "left": null,
            "margin": null,
            "max_height": null,
            "max_width": null,
            "min_height": null,
            "min_width": null,
            "object_fit": null,
            "object_position": null,
            "order": null,
            "overflow": null,
            "overflow_x": null,
            "overflow_y": null,
            "padding": null,
            "right": null,
            "top": null,
            "visibility": null,
            "width": null
          }
        },
        "26269aa1188047fd9484ea81b209aca0": {
          "model_module": "@jupyter-widgets/base",
          "model_name": "LayoutModel",
          "model_module_version": "1.2.0",
          "state": {
            "_model_module": "@jupyter-widgets/base",
            "_model_module_version": "1.2.0",
            "_model_name": "LayoutModel",
            "_view_count": null,
            "_view_module": "@jupyter-widgets/base",
            "_view_module_version": "1.2.0",
            "_view_name": "LayoutView",
            "align_content": null,
            "align_items": null,
            "align_self": null,
            "border": null,
            "bottom": null,
            "display": null,
            "flex": null,
            "flex_flow": null,
            "grid_area": null,
            "grid_auto_columns": null,
            "grid_auto_flow": null,
            "grid_auto_rows": null,
            "grid_column": null,
            "grid_gap": null,
            "grid_row": null,
            "grid_template_areas": null,
            "grid_template_columns": null,
            "grid_template_rows": null,
            "height": null,
            "justify_content": null,
            "justify_items": null,
            "left": null,
            "margin": null,
            "max_height": null,
            "max_width": null,
            "min_height": null,
            "min_width": null,
            "object_fit": null,
            "object_position": null,
            "order": null,
            "overflow": null,
            "overflow_x": null,
            "overflow_y": null,
            "padding": null,
            "right": null,
            "top": null,
            "visibility": null,
            "width": null
          }
        },
        "1464868f0b86450d82405666988d35ba": {
          "model_module": "@jupyter-widgets/controls",
          "model_name": "DescriptionStyleModel",
          "model_module_version": "1.5.0",
          "state": {
            "_model_module": "@jupyter-widgets/controls",
            "_model_module_version": "1.5.0",
            "_model_name": "DescriptionStyleModel",
            "_view_count": null,
            "_view_module": "@jupyter-widgets/base",
            "_view_module_version": "1.2.0",
            "_view_name": "StyleView",
            "description_width": ""
          }
        },
        "ebf3c354889840c087f048c241377b93": {
          "model_module": "@jupyter-widgets/base",
          "model_name": "LayoutModel",
          "model_module_version": "1.2.0",
          "state": {
            "_model_module": "@jupyter-widgets/base",
            "_model_module_version": "1.2.0",
            "_model_name": "LayoutModel",
            "_view_count": null,
            "_view_module": "@jupyter-widgets/base",
            "_view_module_version": "1.2.0",
            "_view_name": "LayoutView",
            "align_content": null,
            "align_items": null,
            "align_self": null,
            "border": null,
            "bottom": null,
            "display": null,
            "flex": null,
            "flex_flow": null,
            "grid_area": null,
            "grid_auto_columns": null,
            "grid_auto_flow": null,
            "grid_auto_rows": null,
            "grid_column": null,
            "grid_gap": null,
            "grid_row": null,
            "grid_template_areas": null,
            "grid_template_columns": null,
            "grid_template_rows": null,
            "height": null,
            "justify_content": null,
            "justify_items": null,
            "left": null,
            "margin": null,
            "max_height": null,
            "max_width": null,
            "min_height": null,
            "min_width": null,
            "object_fit": null,
            "object_position": null,
            "order": null,
            "overflow": null,
            "overflow_x": null,
            "overflow_y": null,
            "padding": null,
            "right": null,
            "top": null,
            "visibility": null,
            "width": null
          }
        },
        "74c8903051624152816a952eea6fd6cb": {
          "model_module": "@jupyter-widgets/controls",
          "model_name": "ProgressStyleModel",
          "model_module_version": "1.5.0",
          "state": {
            "_model_module": "@jupyter-widgets/controls",
            "_model_module_version": "1.5.0",
            "_model_name": "ProgressStyleModel",
            "_view_count": null,
            "_view_module": "@jupyter-widgets/base",
            "_view_module_version": "1.2.0",
            "_view_name": "StyleView",
            "bar_color": null,
            "description_width": ""
          }
        },
        "02206d5c5a604d10b7b227f1df95661d": {
          "model_module": "@jupyter-widgets/base",
          "model_name": "LayoutModel",
          "model_module_version": "1.2.0",
          "state": {
            "_model_module": "@jupyter-widgets/base",
            "_model_module_version": "1.2.0",
            "_model_name": "LayoutModel",
            "_view_count": null,
            "_view_module": "@jupyter-widgets/base",
            "_view_module_version": "1.2.0",
            "_view_name": "LayoutView",
            "align_content": null,
            "align_items": null,
            "align_self": null,
            "border": null,
            "bottom": null,
            "display": null,
            "flex": null,
            "flex_flow": null,
            "grid_area": null,
            "grid_auto_columns": null,
            "grid_auto_flow": null,
            "grid_auto_rows": null,
            "grid_column": null,
            "grid_gap": null,
            "grid_row": null,
            "grid_template_areas": null,
            "grid_template_columns": null,
            "grid_template_rows": null,
            "height": null,
            "justify_content": null,
            "justify_items": null,
            "left": null,
            "margin": null,
            "max_height": null,
            "max_width": null,
            "min_height": null,
            "min_width": null,
            "object_fit": null,
            "object_position": null,
            "order": null,
            "overflow": null,
            "overflow_x": null,
            "overflow_y": null,
            "padding": null,
            "right": null,
            "top": null,
            "visibility": null,
            "width": null
          }
        },
        "a5c387036f9545678102df6e8317e2c8": {
          "model_module": "@jupyter-widgets/controls",
          "model_name": "DescriptionStyleModel",
          "model_module_version": "1.5.0",
          "state": {
            "_model_module": "@jupyter-widgets/controls",
            "_model_module_version": "1.5.0",
            "_model_name": "DescriptionStyleModel",
            "_view_count": null,
            "_view_module": "@jupyter-widgets/base",
            "_view_module_version": "1.2.0",
            "_view_name": "StyleView",
            "description_width": ""
          }
        },
        "622275440b2c45caa137b4ffd61d3ae3": {
          "model_module": "@jupyter-widgets/controls",
          "model_name": "VBoxModel",
          "model_module_version": "1.5.0",
          "state": {
            "_dom_classes": [],
            "_model_module": "@jupyter-widgets/controls",
            "_model_module_version": "1.5.0",
            "_model_name": "VBoxModel",
            "_view_count": null,
            "_view_module": "@jupyter-widgets/controls",
            "_view_module_version": "1.5.0",
            "_view_name": "VBoxView",
            "box_style": "",
            "children": [
              "IPY_MODEL_620b456b365747e5b73a490ad0edcad7",
              "IPY_MODEL_34b6d9e927054f1ca1477ae99a065615"
            ],
            "layout": "IPY_MODEL_4cbedd4d8b964d639601327a2f063900"
          }
        },
        "620b456b365747e5b73a490ad0edcad7": {
          "model_module": "@jupyter-widgets/controls",
          "model_name": "LabelModel",
          "model_module_version": "1.5.0",
          "state": {
            "_dom_classes": [],
            "_model_module": "@jupyter-widgets/controls",
            "_model_module_version": "1.5.0",
            "_model_name": "LabelModel",
            "_view_count": null,
            "_view_module": "@jupyter-widgets/controls",
            "_view_module_version": "1.5.0",
            "_view_name": "LabelView",
            "description": "",
            "description_tooltip": null,
            "layout": "IPY_MODEL_ecd5b650e8b34ffaaf8ad1a426898a70",
            "placeholder": "​",
            "style": "IPY_MODEL_5df0f538407b4b519b0429be7bd628cf",
            "value": "0.001 MB of 0.009 MB uploaded (0.000 MB deduped)\r"
          }
        },
        "34b6d9e927054f1ca1477ae99a065615": {
          "model_module": "@jupyter-widgets/controls",
          "model_name": "FloatProgressModel",
          "model_module_version": "1.5.0",
          "state": {
            "_dom_classes": [],
            "_model_module": "@jupyter-widgets/controls",
            "_model_module_version": "1.5.0",
            "_model_name": "FloatProgressModel",
            "_view_count": null,
            "_view_module": "@jupyter-widgets/controls",
            "_view_module_version": "1.5.0",
            "_view_name": "ProgressView",
            "bar_style": "",
            "description": "",
            "description_tooltip": null,
            "layout": "IPY_MODEL_73416bcf71cd4adaa223d3d14da644e5",
            "max": 1,
            "min": 0,
            "orientation": "horizontal",
            "style": "IPY_MODEL_866c1705c63d45f6b0dd96d7a5d71b24",
            "value": 0.08389446958825478
          }
        },
        "4cbedd4d8b964d639601327a2f063900": {
          "model_module": "@jupyter-widgets/base",
          "model_name": "LayoutModel",
          "model_module_version": "1.2.0",
          "state": {
            "_model_module": "@jupyter-widgets/base",
            "_model_module_version": "1.2.0",
            "_model_name": "LayoutModel",
            "_view_count": null,
            "_view_module": "@jupyter-widgets/base",
            "_view_module_version": "1.2.0",
            "_view_name": "LayoutView",
            "align_content": null,
            "align_items": null,
            "align_self": null,
            "border": null,
            "bottom": null,
            "display": null,
            "flex": null,
            "flex_flow": null,
            "grid_area": null,
            "grid_auto_columns": null,
            "grid_auto_flow": null,
            "grid_auto_rows": null,
            "grid_column": null,
            "grid_gap": null,
            "grid_row": null,
            "grid_template_areas": null,
            "grid_template_columns": null,
            "grid_template_rows": null,
            "height": null,
            "justify_content": null,
            "justify_items": null,
            "left": null,
            "margin": null,
            "max_height": null,
            "max_width": null,
            "min_height": null,
            "min_width": null,
            "object_fit": null,
            "object_position": null,
            "order": null,
            "overflow": null,
            "overflow_x": null,
            "overflow_y": null,
            "padding": null,
            "right": null,
            "top": null,
            "visibility": null,
            "width": null
          }
        },
        "ecd5b650e8b34ffaaf8ad1a426898a70": {
          "model_module": "@jupyter-widgets/base",
          "model_name": "LayoutModel",
          "model_module_version": "1.2.0",
          "state": {
            "_model_module": "@jupyter-widgets/base",
            "_model_module_version": "1.2.0",
            "_model_name": "LayoutModel",
            "_view_count": null,
            "_view_module": "@jupyter-widgets/base",
            "_view_module_version": "1.2.0",
            "_view_name": "LayoutView",
            "align_content": null,
            "align_items": null,
            "align_self": null,
            "border": null,
            "bottom": null,
            "display": null,
            "flex": null,
            "flex_flow": null,
            "grid_area": null,
            "grid_auto_columns": null,
            "grid_auto_flow": null,
            "grid_auto_rows": null,
            "grid_column": null,
            "grid_gap": null,
            "grid_row": null,
            "grid_template_areas": null,
            "grid_template_columns": null,
            "grid_template_rows": null,
            "height": null,
            "justify_content": null,
            "justify_items": null,
            "left": null,
            "margin": null,
            "max_height": null,
            "max_width": null,
            "min_height": null,
            "min_width": null,
            "object_fit": null,
            "object_position": null,
            "order": null,
            "overflow": null,
            "overflow_x": null,
            "overflow_y": null,
            "padding": null,
            "right": null,
            "top": null,
            "visibility": null,
            "width": null
          }
        },
        "5df0f538407b4b519b0429be7bd628cf": {
          "model_module": "@jupyter-widgets/controls",
          "model_name": "DescriptionStyleModel",
          "model_module_version": "1.5.0",
          "state": {
            "_model_module": "@jupyter-widgets/controls",
            "_model_module_version": "1.5.0",
            "_model_name": "DescriptionStyleModel",
            "_view_count": null,
            "_view_module": "@jupyter-widgets/base",
            "_view_module_version": "1.2.0",
            "_view_name": "StyleView",
            "description_width": ""
          }
        },
        "73416bcf71cd4adaa223d3d14da644e5": {
          "model_module": "@jupyter-widgets/base",
          "model_name": "LayoutModel",
          "model_module_version": "1.2.0",
          "state": {
            "_model_module": "@jupyter-widgets/base",
            "_model_module_version": "1.2.0",
            "_model_name": "LayoutModel",
            "_view_count": null,
            "_view_module": "@jupyter-widgets/base",
            "_view_module_version": "1.2.0",
            "_view_name": "LayoutView",
            "align_content": null,
            "align_items": null,
            "align_self": null,
            "border": null,
            "bottom": null,
            "display": null,
            "flex": null,
            "flex_flow": null,
            "grid_area": null,
            "grid_auto_columns": null,
            "grid_auto_flow": null,
            "grid_auto_rows": null,
            "grid_column": null,
            "grid_gap": null,
            "grid_row": null,
            "grid_template_areas": null,
            "grid_template_columns": null,
            "grid_template_rows": null,
            "height": null,
            "justify_content": null,
            "justify_items": null,
            "left": null,
            "margin": null,
            "max_height": null,
            "max_width": null,
            "min_height": null,
            "min_width": null,
            "object_fit": null,
            "object_position": null,
            "order": null,
            "overflow": null,
            "overflow_x": null,
            "overflow_y": null,
            "padding": null,
            "right": null,
            "top": null,
            "visibility": null,
            "width": null
          }
        },
        "866c1705c63d45f6b0dd96d7a5d71b24": {
          "model_module": "@jupyter-widgets/controls",
          "model_name": "ProgressStyleModel",
          "model_module_version": "1.5.0",
          "state": {
            "_model_module": "@jupyter-widgets/controls",
            "_model_module_version": "1.5.0",
            "_model_name": "ProgressStyleModel",
            "_view_count": null,
            "_view_module": "@jupyter-widgets/base",
            "_view_module_version": "1.2.0",
            "_view_name": "StyleView",
            "bar_color": null,
            "description_width": ""
          }
        }
      }
    }
  },
  "cells": [
    {
      "cell_type": "code",
      "source": [
        "!pip install livelossplot split-folders wandb"
      ],
      "metadata": {
        "id": "yYi5rqR9wtd3",
        "colab": {
          "base_uri": "https://localhost:8080/"
        },
        "outputId": "430b72c3-7584-4f9f-83a0-aa6e973afc1e"
      },
      "execution_count": 1,
      "outputs": [
        {
          "output_type": "stream",
          "name": "stdout",
          "text": [
            "Looking in indexes: https://pypi.org/simple, https://us-python.pkg.dev/colab-wheels/public/simple/\n",
            "Collecting livelossplot\n",
            "  Downloading livelossplot-0.5.5-py3-none-any.whl (22 kB)\n",
            "Collecting split-folders\n",
            "  Downloading split_folders-0.5.1-py3-none-any.whl (8.4 kB)\n",
            "Collecting wandb\n",
            "  Downloading wandb-0.13.5-py2.py3-none-any.whl (1.9 MB)\n",
            "\u001b[K     |████████████████████████████████| 1.9 MB 19.1 MB/s \n",
            "\u001b[?25hRequirement already satisfied: bokeh in /usr/local/lib/python3.7/dist-packages (from livelossplot) (2.3.3)\n",
            "Requirement already satisfied: numpy<1.22 in /usr/local/lib/python3.7/dist-packages (from livelossplot) (1.21.6)\n",
            "Requirement already satisfied: matplotlib in /usr/local/lib/python3.7/dist-packages (from livelossplot) (3.2.2)\n",
            "Requirement already satisfied: ipython==7.* in /usr/local/lib/python3.7/dist-packages (from livelossplot) (7.9.0)\n",
            "Requirement already satisfied: decorator in /usr/local/lib/python3.7/dist-packages (from ipython==7.*->livelossplot) (4.4.2)\n",
            "Requirement already satisfied: traitlets>=4.2 in /usr/local/lib/python3.7/dist-packages (from ipython==7.*->livelossplot) (5.1.1)\n",
            "Requirement already satisfied: pygments in /usr/local/lib/python3.7/dist-packages (from ipython==7.*->livelossplot) (2.6.1)\n",
            "Requirement already satisfied: prompt-toolkit<2.1.0,>=2.0.0 in /usr/local/lib/python3.7/dist-packages (from ipython==7.*->livelossplot) (2.0.10)\n",
            "Requirement already satisfied: pexpect in /usr/local/lib/python3.7/dist-packages (from ipython==7.*->livelossplot) (4.8.0)\n",
            "Requirement already satisfied: backcall in /usr/local/lib/python3.7/dist-packages (from ipython==7.*->livelossplot) (0.2.0)\n",
            "Requirement already satisfied: setuptools>=18.5 in /usr/local/lib/python3.7/dist-packages (from ipython==7.*->livelossplot) (57.4.0)\n",
            "Collecting jedi>=0.10\n",
            "  Downloading jedi-0.18.1-py2.py3-none-any.whl (1.6 MB)\n",
            "\u001b[K     |████████████████████████████████| 1.6 MB 58.9 MB/s \n",
            "\u001b[?25hRequirement already satisfied: pickleshare in /usr/local/lib/python3.7/dist-packages (from ipython==7.*->livelossplot) (0.7.5)\n",
            "Requirement already satisfied: parso<0.9.0,>=0.8.0 in /usr/local/lib/python3.7/dist-packages (from jedi>=0.10->ipython==7.*->livelossplot) (0.8.3)\n",
            "Requirement already satisfied: wcwidth in /usr/local/lib/python3.7/dist-packages (from prompt-toolkit<2.1.0,>=2.0.0->ipython==7.*->livelossplot) (0.2.5)\n",
            "Requirement already satisfied: six>=1.9.0 in /usr/local/lib/python3.7/dist-packages (from prompt-toolkit<2.1.0,>=2.0.0->ipython==7.*->livelossplot) (1.15.0)\n",
            "Collecting setproctitle\n",
            "  Downloading setproctitle-1.3.2-cp37-cp37m-manylinux_2_5_x86_64.manylinux1_x86_64.manylinux_2_17_x86_64.manylinux2014_x86_64.whl (30 kB)\n",
            "Collecting GitPython>=1.0.0\n",
            "  Downloading GitPython-3.1.29-py3-none-any.whl (182 kB)\n",
            "\u001b[K     |████████████████████████████████| 182 kB 65.9 MB/s \n",
            "\u001b[?25hRequirement already satisfied: PyYAML in /usr/local/lib/python3.7/dist-packages (from wandb) (6.0)\n",
            "Requirement already satisfied: psutil>=5.0.0 in /usr/local/lib/python3.7/dist-packages (from wandb) (5.4.8)\n",
            "Requirement already satisfied: requests<3,>=2.0.0 in /usr/local/lib/python3.7/dist-packages (from wandb) (2.23.0)\n",
            "Collecting docker-pycreds>=0.4.0\n",
            "  Downloading docker_pycreds-0.4.0-py2.py3-none-any.whl (9.0 kB)\n",
            "Collecting shortuuid>=0.5.0\n",
            "  Downloading shortuuid-1.0.11-py3-none-any.whl (10 kB)\n",
            "Collecting pathtools\n",
            "  Downloading pathtools-0.1.2.tar.gz (11 kB)\n",
            "Requirement already satisfied: promise<3,>=2.0 in /usr/local/lib/python3.7/dist-packages (from wandb) (2.3)\n",
            "Requirement already satisfied: protobuf!=4.0.*,!=4.21.0,<5,>=3.12.0 in /usr/local/lib/python3.7/dist-packages (from wandb) (3.19.6)\n",
            "Collecting sentry-sdk>=1.0.0\n",
            "  Downloading sentry_sdk-1.11.0-py2.py3-none-any.whl (168 kB)\n",
            "\u001b[K     |████████████████████████████████| 168 kB 68.4 MB/s \n",
            "\u001b[?25hRequirement already satisfied: Click!=8.0.0,>=7.0 in /usr/local/lib/python3.7/dist-packages (from wandb) (7.1.2)\n",
            "Collecting gitdb<5,>=4.0.1\n",
            "  Downloading gitdb-4.0.9-py3-none-any.whl (63 kB)\n",
            "\u001b[K     |████████████████████████████████| 63 kB 2.0 MB/s \n",
            "\u001b[?25hRequirement already satisfied: typing-extensions>=3.7.4.3 in /usr/local/lib/python3.7/dist-packages (from GitPython>=1.0.0->wandb) (4.1.1)\n",
            "Collecting smmap<6,>=3.0.1\n",
            "  Downloading smmap-5.0.0-py3-none-any.whl (24 kB)\n",
            "Requirement already satisfied: chardet<4,>=3.0.2 in /usr/local/lib/python3.7/dist-packages (from requests<3,>=2.0.0->wandb) (3.0.4)\n",
            "Requirement already satisfied: urllib3!=1.25.0,!=1.25.1,<1.26,>=1.21.1 in /usr/local/lib/python3.7/dist-packages (from requests<3,>=2.0.0->wandb) (1.24.3)\n",
            "Requirement already satisfied: idna<3,>=2.5 in /usr/local/lib/python3.7/dist-packages (from requests<3,>=2.0.0->wandb) (2.10)\n",
            "Requirement already satisfied: certifi>=2017.4.17 in /usr/local/lib/python3.7/dist-packages (from requests<3,>=2.0.0->wandb) (2022.9.24)\n",
            "Collecting sentry-sdk>=1.0.0\n",
            "  Downloading sentry_sdk-1.10.1-py2.py3-none-any.whl (166 kB)\n",
            "\u001b[K     |████████████████████████████████| 166 kB 71.8 MB/s \n",
            "\u001b[?25h  Downloading sentry_sdk-1.10.0-py2.py3-none-any.whl (166 kB)\n",
            "\u001b[K     |████████████████████████████████| 166 kB 75.2 MB/s \n",
            "\u001b[?25h  Downloading sentry_sdk-1.9.10-py2.py3-none-any.whl (162 kB)\n",
            "\u001b[K     |████████████████████████████████| 162 kB 76.3 MB/s \n",
            "\u001b[?25h  Downloading sentry_sdk-1.9.9-py2.py3-none-any.whl (162 kB)\n",
            "\u001b[K     |████████████████████████████████| 162 kB 73.0 MB/s \n",
            "\u001b[?25h  Downloading sentry_sdk-1.9.8-py2.py3-none-any.whl (158 kB)\n",
            "\u001b[K     |████████████████████████████████| 158 kB 71.0 MB/s \n",
            "\u001b[?25h  Downloading sentry_sdk-1.9.7-py2.py3-none-any.whl (157 kB)\n",
            "\u001b[K     |████████████████████████████████| 157 kB 69.2 MB/s \n",
            "\u001b[?25h  Downloading sentry_sdk-1.9.6-py2.py3-none-any.whl (157 kB)\n",
            "\u001b[K     |████████████████████████████████| 157 kB 71.9 MB/s \n",
            "\u001b[?25h  Downloading sentry_sdk-1.9.5-py2.py3-none-any.whl (157 kB)\n",
            "\u001b[K     |████████████████████████████████| 157 kB 65.9 MB/s \n",
            "\u001b[?25h  Downloading sentry_sdk-1.9.4-py2.py3-none-any.whl (157 kB)\n",
            "\u001b[K     |████████████████████████████████| 157 kB 71.5 MB/s \n",
            "\u001b[?25h  Downloading sentry_sdk-1.9.3-py2.py3-none-any.whl (157 kB)\n",
            "\u001b[K     |████████████████████████████████| 157 kB 65.0 MB/s \n",
            "\u001b[?25h  Downloading sentry_sdk-1.9.2-py2.py3-none-any.whl (157 kB)\n",
            "\u001b[K     |████████████████████████████████| 157 kB 74.9 MB/s \n",
            "\u001b[?25h  Downloading sentry_sdk-1.9.1-py2.py3-none-any.whl (157 kB)\n",
            "\u001b[K     |████████████████████████████████| 157 kB 62.3 MB/s \n",
            "\u001b[?25h  Downloading sentry_sdk-1.9.0-py2.py3-none-any.whl (156 kB)\n",
            "\u001b[K     |████████████████████████████████| 156 kB 71.1 MB/s \n",
            "\u001b[?25hRequirement already satisfied: pillow>=7.1.0 in /usr/local/lib/python3.7/dist-packages (from bokeh->livelossplot) (7.1.2)\n",
            "Requirement already satisfied: python-dateutil>=2.1 in /usr/local/lib/python3.7/dist-packages (from bokeh->livelossplot) (2.8.2)\n",
            "Requirement already satisfied: packaging>=16.8 in /usr/local/lib/python3.7/dist-packages (from bokeh->livelossplot) (21.3)\n",
            "Requirement already satisfied: Jinja2>=2.9 in /usr/local/lib/python3.7/dist-packages (from bokeh->livelossplot) (2.11.3)\n",
            "Requirement already satisfied: tornado>=5.1 in /usr/local/lib/python3.7/dist-packages (from bokeh->livelossplot) (6.0.4)\n",
            "Requirement already satisfied: MarkupSafe>=0.23 in /usr/local/lib/python3.7/dist-packages (from Jinja2>=2.9->bokeh->livelossplot) (2.0.1)\n",
            "Requirement already satisfied: pyparsing!=3.0.5,>=2.0.2 in /usr/local/lib/python3.7/dist-packages (from packaging>=16.8->bokeh->livelossplot) (3.0.9)\n",
            "Requirement already satisfied: kiwisolver>=1.0.1 in /usr/local/lib/python3.7/dist-packages (from matplotlib->livelossplot) (1.4.4)\n",
            "Requirement already satisfied: cycler>=0.10 in /usr/local/lib/python3.7/dist-packages (from matplotlib->livelossplot) (0.11.0)\n",
            "Requirement already satisfied: ptyprocess>=0.5 in /usr/local/lib/python3.7/dist-packages (from pexpect->ipython==7.*->livelossplot) (0.7.0)\n",
            "Building wheels for collected packages: pathtools\n",
            "  Building wheel for pathtools (setup.py) ... \u001b[?25l\u001b[?25hdone\n",
            "  Created wheel for pathtools: filename=pathtools-0.1.2-py3-none-any.whl size=8806 sha256=dfa3b5f469c5c108337c22c7123c26867fe2d355f74ab27e1a88b9d81acc5ff5\n",
            "  Stored in directory: /root/.cache/pip/wheels/3e/31/09/fa59cef12cdcfecc627b3d24273699f390e71828921b2cbba2\n",
            "Successfully built pathtools\n",
            "Installing collected packages: smmap, jedi, gitdb, shortuuid, setproctitle, sentry-sdk, pathtools, GitPython, docker-pycreds, wandb, split-folders, livelossplot\n",
            "Successfully installed GitPython-3.1.29 docker-pycreds-0.4.0 gitdb-4.0.9 jedi-0.18.1 livelossplot-0.5.5 pathtools-0.1.2 sentry-sdk-1.9.0 setproctitle-1.3.2 shortuuid-1.0.11 smmap-5.0.0 split-folders-0.5.1 wandb-0.13.5\n"
          ]
        }
      ]
    },
    {
      "cell_type": "code",
      "execution_count": 2,
      "metadata": {
        "colab": {
          "base_uri": "https://localhost:8080/"
        },
        "id": "WMvUjfMXnlZP",
        "outputId": "003deee4-15b2-438a-bf8f-611ea44a7625"
      },
      "outputs": [
        {
          "output_type": "stream",
          "name": "stdout",
          "text": [
            "Mounted at /content/drive/\n",
            "/content/drive/My Drive/Bicycle_crash\n",
            "\u001b[0m\u001b[01;34mdata\u001b[0m/  \u001b[01;34msaved_models\u001b[0m/  \u001b[01;34msrc\u001b[0m/  \u001b[01;34mwandb\u001b[0m/\n"
          ]
        }
      ],
      "source": [
        "from google.colab import drive\n",
        "drive.mount('/content/drive/')\n",
        "\n",
        "%cd /content/drive/My Drive/Bicycle_crash/\n",
        "%ls"
      ]
    },
    {
      "cell_type": "code",
      "source": [
        "import splitfolders\n",
        "\n",
        "splitfolders.ratio(\"src\", \"data\", seed=42, ratio=(.8, .2))"
      ],
      "metadata": {
        "id": "07B_M3OfHJHW",
        "colab": {
          "base_uri": "https://localhost:8080/"
        },
        "outputId": "5df589b5-dab8-44f7-cfef-0e17270f61d9"
      },
      "execution_count": 5,
      "outputs": [
        {
          "output_type": "stream",
          "name": "stderr",
          "text": [
            "\n",
            "Copying files: 0 files [00:00, ? files/s]\u001b[A\n",
            "Copying files: 1 files [00:00,  6.64 files/s]\u001b[A\n",
            "Copying files: 10 files [00:00, 15.19 files/s]\u001b[A\n",
            "Copying files: 12 files [00:01,  6.42 files/s]\u001b[A\n",
            "Copying files: 13 files [00:10,  1.37s/ files]\u001b[A\n",
            "Copying files: 21 files [00:10,  1.87 files/s]\u001b[A\n",
            "Copying files: 29 files [00:10,  3.44 files/s]\u001b[A\n",
            "Copying files: 34 files [00:10,  4.68 files/s]\u001b[A\n",
            "Copying files: 41 files [00:10,  7.13 files/s]\u001b[A\n",
            "Copying files: 46 files [00:11,  9.13 files/s]\u001b[A\n",
            "Copying files: 51 files [00:11,  9.27 files/s]\u001b[A\n",
            "Copying files: 65 files [00:11, 18.05 files/s]\u001b[A\n",
            "Copying files: 79 files [00:11, 28.73 files/s]\u001b[A\n",
            "Copying files: 90 files [00:11, 37.84 files/s]\u001b[A\n",
            "Copying files: 100 files [00:12, 45.96 files/s]\u001b[A\n",
            "Copying files: 110 files [00:12, 54.25 files/s]\u001b[A\n",
            "Copying files: 122 files [00:12, 65.86 files/s]\u001b[A\n",
            "Copying files: 132 files [00:12, 72.07 files/s]\u001b[A\n",
            "Copying files: 142 files [00:12, 77.97 files/s]\u001b[A\n",
            "Copying files: 152 files [00:13, 25.85 files/s]\u001b[A\n",
            "Copying files: 166 files [00:13, 36.92 files/s]\u001b[A\n",
            "Copying files: 178 files [00:13, 47.07 files/s]\u001b[A\n",
            "Copying files: 189 files [00:13, 56.13 files/s]\u001b[A\n",
            "Copying files: 200 files [00:13, 64.80 files/s]\u001b[A\n",
            "Copying files: 215 files [00:13, 81.21 files/s]\u001b[A\n",
            "Copying files: 227 files [00:14, 87.25 files/s]\u001b[A\n",
            "Copying files: 239 files [00:14, 91.07 files/s]\u001b[A\n",
            "Copying files: 250 files [00:14, 94.95 files/s]\u001b[A\n",
            "Copying files: 264 files [00:14, 105.81 files/s]\u001b[A\n",
            "Copying files: 276 files [00:14, 107.77 files/s]\u001b[A\n",
            "Copying files: 288 files [00:14, 108.88 files/s]\u001b[A\n",
            "Copying files: 300 files [00:14, 103.34 files/s]\u001b[A\n",
            "Copying files: 315 files [00:14, 109.41 files/s]\u001b[A\n",
            "Copying files: 327 files [00:15, 63.35 files/s] \u001b[A\n",
            "Copying files: 338 files [00:15, 71.23 files/s]\u001b[A\n",
            "Copying files: 349 files [00:15, 78.47 files/s]\u001b[A\n",
            "Copying files: 363 files [00:15, 87.12 files/s]\u001b[A\n",
            "Copying files: 378 files [00:15, 100.48 files/s]\u001b[A\n",
            "Copying files: 390 files [00:15, 104.58 files/s]\u001b[A\n",
            "Copying files: 402 files [00:15, 106.53 files/s]\u001b[A\n",
            "Copying files: 414 files [00:15, 108.20 files/s]\u001b[A\n",
            "Copying files: 426 files [00:16, 111.18 files/s]\u001b[A\n",
            "Copying files: 438 files [00:16, 110.56 files/s]\u001b[A\n",
            "Copying files: 450 files [00:16, 65.12 files/s] \u001b[A\n",
            "Copying files: 462 files [00:16, 74.92 files/s]\u001b[A\n",
            "Copying files: 475 files [00:16, 83.39 files/s]\u001b[A\n",
            "Copying files: 489 files [00:16, 95.20 files/s]\u001b[A\n",
            "Copying files: 501 files [00:16, 99.81 files/s]\u001b[A\n",
            "Copying files: 513 files [00:17, 96.50 files/s]\u001b[A\n",
            "Copying files: 525 files [00:17, 101.59 files/s]\u001b[A\n",
            "Copying files: 538 files [00:17, 104.46 files/s]\u001b[A\n",
            "Copying files: 552 files [00:17, 113.40 files/s]\u001b[A\n",
            "Copying files: 564 files [00:17, 113.35 files/s]\u001b[A\n",
            "Copying files: 576 files [00:17, 112.65 files/s]\u001b[A\n",
            "Copying files: 588 files [00:17, 111.64 files/s]\u001b[A\n",
            "Copying files: 602 files [00:17, 114.88 files/s]\u001b[A\n",
            "Copying files: 617 files [00:17, 123.32 files/s]\u001b[A\n",
            "Copying files: 630 files [00:18, 114.10 files/s]\u001b[A\n",
            "Copying files: 642 files [00:18, 61.51 files/s] \u001b[A\n",
            "Copying files: 651 files [00:18, 66.09 files/s]\u001b[A\n",
            "Copying files: 665 files [00:18, 77.21 files/s]\u001b[A\n",
            "Copying files: 675 files [00:19, 48.64 files/s]\u001b[A\n",
            "Copying files: 687 files [00:19, 58.95 files/s]\u001b[A\n",
            "Copying files: 698 files [00:19, 67.42 files/s]\u001b[A\n",
            "Copying files: 712 files [00:19, 81.78 files/s]\u001b[A\n",
            "Copying files: 723 files [00:19, 85.45 files/s]\u001b[A\n",
            "Copying files: 734 files [00:19, 90.68 files/s]\u001b[A\n",
            "Copying files: 745 files [00:19, 95.46 files/s]\u001b[A\n",
            "Copying files: 759 files [00:19, 106.70 files/s]\u001b[A\n",
            "Copying files: 771 files [00:20, 105.39 files/s]\u001b[A\n",
            "Copying files: 783 files [00:20, 101.54 files/s]\u001b[A\n",
            "Copying files: 794 files [00:20, 102.08 files/s]\u001b[A\n",
            "Copying files: 808 files [00:20, 111.03 files/s]\u001b[A\n",
            "Copying files: 820 files [00:20, 110.71 files/s]\u001b[A\n",
            "Copying files: 832 files [00:20, 112.11 files/s]\u001b[A\n",
            "Copying files: 844 files [00:20, 108.41 files/s]\u001b[A\n",
            "Copying files: 858 files [00:20, 109.63 files/s]\u001b[A\n",
            "Copying files: 873 files [00:20, 118.37 files/s]\u001b[A\n",
            "Copying files: 885 files [00:21, 116.05 files/s]\u001b[A\n",
            "Copying files: 897 files [00:21, 109.55 files/s]\u001b[A\n",
            "Copying files: 909 files [00:21, 109.76 files/s]\u001b[A\n",
            "Copying files: 921 files [00:21, 106.95 files/s]\u001b[A\n",
            "Copying files: 932 files [00:21, 65.05 files/s] \u001b[A\n",
            "Copying files: 942 files [00:21, 70.17 files/s]\u001b[A\n",
            "Copying files: 956 files [00:21, 80.83 files/s]\u001b[A\n",
            "Copying files: 969 files [00:22, 90.70 files/s]\u001b[A\n",
            "Copying files: 980 files [00:22, 50.82 files/s]\u001b[A\n",
            "Copying files: 992 files [00:22, 60.76 files/s]\u001b[A\n",
            "Copying files: 1006 files [00:22, 74.76 files/s]\u001b[A\n",
            "Copying files: 1017 files [00:22, 81.90 files/s]\u001b[A\n",
            "Copying files: 1028 files [00:22, 87.93 files/s]\u001b[A\n",
            "Copying files: 1039 files [00:23, 36.80 files/s]\u001b[A\n",
            "Copying files: 1050 files [00:23, 45.37 files/s]\u001b[A\n",
            "Copying files: 1062 files [00:23, 54.27 files/s]\u001b[A\n",
            "Copying files: 1076 files [00:24, 68.31 files/s]\u001b[A\n",
            "Copying files: 1087 files [00:24, 76.00 files/s]\u001b[A\n",
            "Copying files: 1098 files [00:24, 81.14 files/s]\u001b[A\n",
            "Copying files: 1109 files [00:24, 53.44 files/s]\u001b[A\n",
            "Copying files: 1120 files [00:24, 62.29 files/s]\u001b[A\n",
            "Copying files: 1130 files [00:24, 68.23 files/s]\u001b[A\n",
            "Copying files: 1143 files [00:24, 80.55 files/s]\u001b[A\n",
            "Copying files: 1154 files [00:25, 86.72 files/s]\u001b[A\n",
            "Copying files: 1165 files [00:27, 13.18 files/s]\u001b[A\n",
            "Copying files: 1173 files [00:37,  2.81 files/s]\u001b[A\n",
            "Copying files: 1182 files [00:37,  3.82 files/s]\u001b[A\n",
            "Copying files: 1191 files [00:38,  5.22 files/s]\u001b[A\n",
            "Copying files: 1200 files [00:38,  7.12 files/s]\u001b[A\n",
            "Copying files: 1209 files [00:38,  9.71 files/s]\u001b[A\n",
            "Copying files: 1223 files [00:38, 15.27 files/s]\u001b[A\n",
            "Copying files: 1233 files [00:38, 20.10 files/s]\u001b[A\n",
            "Copying files: 1243 files [00:38, 26.10 files/s]\u001b[A\n",
            "Copying files: 1257 files [00:38, 36.39 files/s]\u001b[A\n",
            "Copying files: 1272 files [00:38, 48.67 files/s]\u001b[A\n",
            "Copying files: 1286 files [00:38, 61.57 files/s]\u001b[A\n",
            "Copying files: 1298 files [00:39, 68.88 files/s]\u001b[A\n",
            "Copying files: 1310 files [00:39, 76.81 files/s]\u001b[A\n",
            "Copying files: 1322 files [00:39, 85.42 files/s]\u001b[A\n",
            "Copying files: 1336 files [00:39, 91.97 files/s]\u001b[A\n",
            "Copying files: 1349 files [00:39, 100.53 files/s]\u001b[A\n",
            "Copying files: 1361 files [00:39, 100.13 files/s]\u001b[A\n",
            "Copying files: 1373 files [00:39, 102.04 files/s]\u001b[A\n",
            "Copying files: 1384 files [00:39, 99.63 files/s] \u001b[A\n",
            "Copying files: 1396 files [00:39, 103.87 files/s]\u001b[A\n",
            "Copying files: 1407 files [00:40, 98.49 files/s] \u001b[A\n",
            "Copying files: 1418 files [00:40, 97.95 files/s]\u001b[A\n",
            "Copying files: 1429 files [00:40, 57.20 files/s]\u001b[A\n",
            "Copying files: 1437 files [00:40, 38.71 files/s]\u001b[A\n",
            "Copying files: 1448 files [00:41, 48.34 files/s]\u001b[A\n",
            "Copying files: 1461 files [00:41, 60.45 files/s]\u001b[A\n",
            "Copying files: 1473 files [00:41, 71.00 files/s]\u001b[A\n",
            "Copying files: 1484 files [00:41, 78.19 files/s]\u001b[A\n",
            "Copying files: 1496 files [00:41, 86.53 files/s]\u001b[A\n",
            "Copying files: 1507 files [00:41, 90.09 files/s]\u001b[A\n",
            "Copying files: 1521 files [00:41, 101.39 files/s]\u001b[A\n",
            "Copying files: 1533 files [00:41, 98.79 files/s] \u001b[A\n",
            "Copying files: 1545 files [00:41, 102.75 files/s]\u001b[A\n",
            "Copying files: 1556 files [00:42, 104.44 files/s]\u001b[A\n",
            "Copying files: 1568 files [00:42, 105.46 files/s]\u001b[A\n",
            "Copying files: 1582 files [00:42, 113.45 files/s]\u001b[A\n",
            "Copying files: 1594 files [00:42, 109.21 files/s]\u001b[A\n",
            "Copying files: 1606 files [00:42, 106.98 files/s]\u001b[A\n",
            "Copying files: 1617 files [00:42, 100.01 files/s]\u001b[A\n",
            "Copying files: 1630 files [00:42, 103.75 files/s]\u001b[A\n",
            "Copying files: 1645 files [00:42, 108.99 files/s]\u001b[A\n",
            "Copying files: 1659 files [00:42, 115.33 files/s]\u001b[A\n",
            "Copying files: 1671 files [00:43, 112.69 files/s]\u001b[A\n",
            "Copying files: 1683 files [00:43, 111.61 files/s]\u001b[A\n",
            "Copying files: 1695 files [00:43, 107.29 files/s]\u001b[A\n",
            "Copying files: 1706 files [00:43, 105.55 files/s]\u001b[A\n",
            "Copying files: 1720 files [00:43, 114.93 files/s]\u001b[A\n",
            "Copying files: 1732 files [00:43, 107.49 files/s]\u001b[A\n",
            "Copying files: 1744 files [00:43, 109.16 files/s]\u001b[A\n",
            "Copying files: 1756 files [00:43, 106.41 files/s]\u001b[A\n",
            "Copying files: 1768 files [00:43, 107.29 files/s]\u001b[A\n",
            "Copying files: 1781 files [00:44, 112.51 files/s]\u001b[A\n",
            "Copying files: 1793 files [00:44, 112.42 files/s]\u001b[A\n",
            "Copying files: 1805 files [00:44, 61.18 files/s] \u001b[A\n",
            "Copying files: 1814 files [00:44, 65.35 files/s]\u001b[A\n",
            "Copying files: 1827 files [00:44, 74.27 files/s]\u001b[A\n",
            "Copying files: 1841 files [00:44, 84.23 files/s]\u001b[A\n",
            "Copying files: 1854 files [00:45, 94.14 files/s]\u001b[A\n",
            "Copying files: 1865 files [00:45, 94.76 files/s]\u001b[A\n",
            "Copying files: 1876 files [00:45, 95.07 files/s]\u001b[A\n",
            "Copying files: 1887 files [00:45, 89.17 files/s]\u001b[A\n",
            "Copying files: 1897 files [00:45, 91.65 files/s]\u001b[A\n",
            "Copying files: 1907 files [00:45, 50.49 files/s]\u001b[A\n",
            "Copying files: 1917 files [00:46, 58.69 files/s]\u001b[A\n",
            "Copying files: 1927 files [00:46, 66.34 files/s]\u001b[A\n",
            "Copying files: 1940 files [00:46, 79.85 files/s]\u001b[A\n",
            "Copying files: 1951 files [00:46, 86.43 files/s]\u001b[A\n",
            "Copying files: 1962 files [00:46, 91.96 files/s]\u001b[A\n",
            "Copying files: 1973 files [00:46, 95.31 files/s]\u001b[A\n",
            "Copying files: 1984 files [00:46, 94.39 files/s]\u001b[A\n",
            "Copying files: 1999 files [00:46, 107.78 files/s]\u001b[A\n",
            "Copying files: 2011 files [00:46, 105.90 files/s]\u001b[A\n",
            "Copying files: 2022 files [00:47, 106.79 files/s]\u001b[A\n",
            "Copying files: 2036 files [00:47, 109.15 files/s]\u001b[A\n",
            "Copying files: 2051 files [00:47, 120.06 files/s]\u001b[A\n",
            "Copying files: 2064 files [00:47, 116.92 files/s]\u001b[A\n",
            "Copying files: 2076 files [00:47, 112.31 files/s]\u001b[A\n",
            "Copying files: 2088 files [00:47, 113.06 files/s]\u001b[A\n",
            "Copying files: 2102 files [00:47, 112.89 files/s]\u001b[A\n",
            "Copying files: 2114 files [00:48, 58.93 files/s] \u001b[A\n",
            "Copying files: 2125 files [00:48, 67.06 files/s]\u001b[A\n",
            "Copying files: 2136 files [00:48, 74.96 files/s]\u001b[A\n",
            "Copying files: 2150 files [00:48, 84.42 files/s]\u001b[A\n",
            "Copying files: 2165 files [00:48, 98.22 files/s]\u001b[A\n",
            "Copying files: 2185 files [00:49, 44.49 files/s]\n"
          ]
        }
      ]
    },
    {
      "cell_type": "code",
      "source": [
        "import wandb\n",
        "wandb.login()"
      ],
      "metadata": {
        "colab": {
          "base_uri": "https://localhost:8080/",
          "height": 144
        },
        "id": "XxExoRh-QCDq",
        "outputId": "b135cf1f-256d-4a92-b2ee-c088b0ea9e68"
      },
      "execution_count": 6,
      "outputs": [
        {
          "output_type": "stream",
          "name": "stderr",
          "text": [
            "ERROR:wandb.jupyter:Failed to detect the name of this notebook, you can set it manually with the WANDB_NOTEBOOK_NAME environment variable to enable code saving.\n"
          ]
        },
        {
          "output_type": "display_data",
          "data": {
            "text/plain": [
              "<IPython.core.display.Javascript object>"
            ],
            "application/javascript": [
              "\n",
              "        window._wandbApiKey = new Promise((resolve, reject) => {\n",
              "            function loadScript(url) {\n",
              "            return new Promise(function(resolve, reject) {\n",
              "                let newScript = document.createElement(\"script\");\n",
              "                newScript.onerror = reject;\n",
              "                newScript.onload = resolve;\n",
              "                document.body.appendChild(newScript);\n",
              "                newScript.src = url;\n",
              "            });\n",
              "            }\n",
              "            loadScript(\"https://cdn.jsdelivr.net/npm/postmate/build/postmate.min.js\").then(() => {\n",
              "            const iframe = document.createElement('iframe')\n",
              "            iframe.style.cssText = \"width:0;height:0;border:none\"\n",
              "            document.body.appendChild(iframe)\n",
              "            const handshake = new Postmate({\n",
              "                container: iframe,\n",
              "                url: 'https://wandb.ai/authorize'\n",
              "            });\n",
              "            const timeout = setTimeout(() => reject(\"Couldn't auto authenticate\"), 5000)\n",
              "            handshake.then(function(child) {\n",
              "                child.on('authorize', data => {\n",
              "                    clearTimeout(timeout)\n",
              "                    resolve(data)\n",
              "                });\n",
              "            });\n",
              "            })\n",
              "        });\n",
              "    "
            ]
          },
          "metadata": {}
        },
        {
          "output_type": "stream",
          "name": "stderr",
          "text": [
            "\u001b[34m\u001b[1mwandb\u001b[0m: Logging into wandb.ai. (Learn how to deploy a W&B server locally: https://wandb.me/wandb-server)\n",
            "\u001b[34m\u001b[1mwandb\u001b[0m: You can find your API key in your browser here: https://wandb.ai/authorize\n",
            "wandb: Paste an API key from your profile and hit enter, or press ctrl+c to quit: "
          ]
        },
        {
          "name": "stdout",
          "output_type": "stream",
          "text": [
            "··········\n"
          ]
        },
        {
          "output_type": "stream",
          "name": "stderr",
          "text": [
            "\u001b[34m\u001b[1mwandb\u001b[0m: Appending key for api.wandb.ai to your netrc file: /root/.netrc\n"
          ]
        },
        {
          "output_type": "execute_result",
          "data": {
            "text/plain": [
              "True"
            ]
          },
          "metadata": {},
          "execution_count": 6
        }
      ]
    },
    {
      "cell_type": "code",
      "source": [
        "import torch\n",
        "import torch.nn as nn\n",
        "import torch.optim as optim\n",
        "import torchvision\n",
        "from torchvision import datasets, models, transforms\n",
        "import numpy as np\n",
        "import matplotlib.pyplot as plt\n",
        "import time\n",
        "import os\n",
        "import warnings\n",
        "from livelossplot import PlotLosses\n",
        "warnings.filterwarnings(\"ignore\")\n",
        "device = torch.device(\"cuda:0\" if torch.cuda.is_available() else \"cpu\")"
      ],
      "metadata": {
        "id": "epvvlOVipfwK"
      },
      "execution_count": 7,
      "outputs": []
    },
    {
      "cell_type": "code",
      "source": [
        "torch.cuda.empty_cache() \n",
        "torch.cuda.get_device_name(0)"
      ],
      "metadata": {
        "id": "VGm2JS7Br_hS",
        "colab": {
          "base_uri": "https://localhost:8080/",
          "height": 36
        },
        "outputId": "e377547a-fec6-4a45-86bd-256efd7e128f"
      },
      "execution_count": 8,
      "outputs": [
        {
          "output_type": "execute_result",
          "data": {
            "text/plain": [
              "'Tesla T4'"
            ],
            "application/vnd.google.colaboratory.intrinsic+json": {
              "type": "string"
            }
          },
          "metadata": {},
          "execution_count": 8
        }
      ]
    },
    {
      "cell_type": "code",
      "source": [
        "SIZE = (224, 224)\n",
        "\n",
        "transforms_train = transforms.Compose([\n",
        "    transforms.Resize(SIZE),\n",
        "    transforms.RandomAffine(15),\n",
        "    transforms.GaussianBlur(1),\n",
        "    transforms.RandomAutocontrast(),\n",
        "    transforms.RandomHorizontalFlip(), # data augmentation\n",
        "    transforms.RandomResizedCrop(224),\n",
        "    transforms.ToTensor(),\n",
        "    transforms.Normalize([0.485, 0.456, 0.406], [0.229, 0.224, 0.225]) # normalization\n",
        "])\n",
        "transforms_test = transforms.Compose([\n",
        "    transforms.Resize(SIZE),\n",
        "    transforms.CenterCrop((224, 224)),\n",
        "    transforms.ToTensor(),\n",
        "    transforms.Normalize([0.485, 0.456, 0.406], [0.229, 0.224, 0.225])\n",
        "])"
      ],
      "metadata": {
        "id": "zoBZYjJOsEBR"
      },
      "execution_count": 9,
      "outputs": []
    },
    {
      "cell_type": "code",
      "source": [
        "# train and test directories\n",
        "train_dir = \"data/train/\"\n",
        "test_dir = \"data/val/\""
      ],
      "metadata": {
        "id": "WVzI30pPsEXh"
      },
      "execution_count": 10,
      "outputs": []
    },
    {
      "cell_type": "code",
      "source": [
        "train_dataset = datasets.ImageFolder(train_dir, transforms_train)\n",
        "test_dataset = datasets.ImageFolder(test_dir, transforms_test)\n",
        "\n",
        "# create train dataloader\n",
        "train_dataloader = torch.utils.data.DataLoader(\n",
        "    train_dataset,\n",
        "    batch_size=64,\n",
        "    shuffle=True,\n",
        "    num_workers=5,\n",
        ")\n",
        "\n",
        "# create test dataloader\n",
        "test_dataloader = torch.utils.data.DataLoader(\n",
        "    test_dataset,\n",
        "    batch_size=64,\n",
        "    shuffle=False,\n",
        "    num_workers=5,\n",
        ")"
      ],
      "metadata": {
        "id": "nNo0TplWsNwJ"
      },
      "execution_count": 11,
      "outputs": []
    },
    {
      "cell_type": "code",
      "source": [
        "print('Train dataset size:', len(train_dataset))\n",
        "print('Test dataset size:', len(test_dataset))\n",
        "class_names = train_dataset.classes\n",
        "num_classes = len(class_names)\n",
        "print('Number of classes:', num_classes)"
      ],
      "metadata": {
        "id": "NtFbZQr1sPzR",
        "colab": {
          "base_uri": "https://localhost:8080/"
        },
        "outputId": "2d7b284d-f12d-4c92-a31b-f15d210c8334"
      },
      "execution_count": 12,
      "outputs": [
        {
          "output_type": "stream",
          "name": "stdout",
          "text": [
            "Train dataset size: 1746\n",
            "Test dataset size: 438\n",
            "Number of classes: 2\n"
          ]
        }
      ]
    },
    {
      "cell_type": "code",
      "source": [
        "plt.rcParams['figure.figsize'] = [12, 8]\n",
        "plt.rcParams['figure.dpi'] = 60\n",
        "plt.rcParams.update({'font.size': 20})\n",
        "def imshow(input, title):\n",
        "    input = input.numpy().transpose((1, 2, 0))\n",
        "    plt.imshow(input)\n",
        "    plt.title(title)\n",
        "    plt.show()\n",
        "\n",
        "iterator = iter(train_dataloader)\n",
        "inputs, classes = next(iterator)\n",
        "out = torchvision.utils.make_grid(inputs[:5])\n",
        "imshow(out, title=[class_names[x] for x in classes[:5]])"
      ],
      "metadata": {
        "id": "KCq7AkbmsR4J",
        "colab": {
          "base_uri": "https://localhost:8080/",
          "height": 203
        },
        "outputId": "48d9c491-add8-4a05-83e3-1c8057fa7712"
      },
      "execution_count": 13,
      "outputs": [
        {
          "output_type": "stream",
          "name": "stderr",
          "text": [
            "WARNING:matplotlib.image:Clipping input data to the valid range for imshow with RGB data ([0..1] for floats or [0..255] for integers).\n"
          ]
        },
        {
          "output_type": "display_data",
          "data": {
            "text/plain": [
              "<Figure size 720x480 with 1 Axes>"
            ],
            "image/png": "[encoded data removed]"
          },
          "metadata": {
            "needs_background": "light"
          }
        }
      ]
    },
    {
      "cell_type": "code",
      "source": [
        "def train_model(name, model):\n",
        "    \n",
        "    path = f\"saved_models/{name}.pth\"\n",
        "    \n",
        "    start_time = time.time()\n",
        "    wandb.init(\n",
        "        project=\"Bicycle\",\n",
        "        entity=\"kokteubay-raiymbek\",\n",
        "        name=name,\n",
        "        config={\n",
        "            \"lr\": 3e-4,\n",
        "            \"model_name\": name,\n",
        "            \"epochs\": 10,\n",
        "        }\n",
        "    )\n",
        "    config = wandb.config\n",
        "    \n",
        "    num_features = model.fc.in_features\n",
        "    model.fc = nn.Linear(num_features, num_classes)\n",
        "    model = model.to(device) \n",
        "    criterion = nn.CrossEntropyLoss()\n",
        "    optimizer = optim.Adam(model.parameters(), lr=config.lr)\n",
        "    \n",
        "    wandb.watch(model)\n",
        "\n",
        "    for epoch in range(0, config.epochs):\n",
        "    \n",
        "        print(f\"Epoch {epoch} running\")\n",
        "        model.train()\n",
        "        running_loss = 0.\n",
        "        running_corrects = 0 \n",
        "        \n",
        "        for i, (inputs, labels) in enumerate(train_dataloader):\n",
        "            \n",
        "            inputs = inputs.to(device)\n",
        "            labels = labels.to(device) \n",
        "            optimizer.zero_grad()\n",
        "            outputs = model(inputs)\n",
        "            _, preds = torch.max(outputs, 1)\n",
        "            loss = criterion(outputs, labels)\n",
        "            loss.backward()\n",
        "            optimizer.step()\n",
        "            running_loss += loss.item() * inputs.size(0)\n",
        "            running_corrects += torch.sum(preds == labels.data) \n",
        "            \n",
        "        epoch_loss = running_loss / len(train_dataset)\n",
        "        epoch_acc = running_corrects / len(train_dataset) * 100.\n",
        "        print('[Train #{}] Loss: {:.4f} Acc: {:.4f}% Time: {:.4f}s' \\\n",
        "              .format(epoch, epoch_loss, epoch_acc, time.time() -start_time))\n",
        "\n",
        "        model.eval()\n",
        "        with torch.no_grad():\n",
        "            running_loss = 0.\n",
        "            running_corrects = 0\n",
        "            for inputs, labels in test_dataloader:\n",
        "                inputs = inputs.to(device)\n",
        "                labels = labels.to(device)\n",
        "                outputs = model(inputs)\n",
        "                _, preds = torch.max(outputs, 1)\n",
        "                loss = criterion(outputs, labels)\n",
        "                running_loss += loss.item() * inputs.size(0)\n",
        "                running_corrects += torch.sum(preds == labels.data)\n",
        "                \n",
        "            val_epoch_loss = running_loss / len(test_dataset)\n",
        "            val_epoch_acc = running_corrects / len(test_dataset) * 100.\n",
        "            print('[Test #{}] Loss: {:.4f} Acc: {:.4f}% Time: {:.4f}s' \\\n",
        "                  .format(epoch, val_epoch_loss, val_epoch_acc, time.time()- start_time))\n",
        "            metrics = {\n",
        "                \"test/loss\": val_epoch_loss, \n",
        "                \"test/accuracy\": val_epoch_acc,\n",
        "                \"train/loss\": epoch_loss, \n",
        "                \"train/accuracy\": epoch_acc,\n",
        "            }    \n",
        "            wandb.log(metrics) \n",
        "    \n",
        "        torch.save({\n",
        "            'epoch': epoch,\n",
        "            'model_state_dict': model.state_dict(),\n",
        "            'optimizer_state_dict': optimizer.state_dict(),\n",
        "            'loss': loss,\n",
        "        }, path)\n",
        "\n",
        "wandb.finish()"
      ],
      "metadata": {
        "id": "SWHCUiDasSYw"
      },
      "execution_count": 14,
      "outputs": []
    },
    {
      "cell_type": "code",
      "source": [
        "resnets = {\n",
        "    \"resnet50\":  models.resnet50(pretrained=True),\n",
        "    \"resnet152\": models.resnet152(pretrained=True),\n",
        "}\n",
        "\n",
        "for name, model in resnets.items():\n",
        "    train_model(name, model)"
      ],
      "metadata": {
        "colab": {
          "base_uri": "https://localhost:8080/",
          "height": 1000,
          "referenced_widgets": [
            "b0f84676ba954dae9c0e45344a3fb869",
            "496b10b6357d496ca271f2bc156d9252",
            "e499cd40651046c99ca945bec553165b",
            "b89585677d474fda9810edd9573b55b8",
            "13846be95f044d5f8fb8d70e784e77f3",
            "f63619d62fc34ae5be4602fe3b5932e3",
            "075131733cdf43ae8f3ca377975158fb",
            "4608041709fe4bb1807456f3328ed984",
            "2306d0bff0b440bda2fa195035be7fc0",
            "95148338b1ad46d89e1b4d589b4c9582",
            "f05196c704714059ab30e2462d740d22",
            "152fb8a25614463994919b9549d9a64c",
            "a0268b9ee7ca47d5b660385c73474c8f",
            "6b97641761a64b4a982dd309d6eabfe9",
            "53ebb413c58f47349ee8f105801418d3",
            "6f6c793be5aa41a4a39ec4c1d04a2750",
            "26269aa1188047fd9484ea81b209aca0",
            "1464868f0b86450d82405666988d35ba",
            "ebf3c354889840c087f048c241377b93",
            "74c8903051624152816a952eea6fd6cb",
            "02206d5c5a604d10b7b227f1df95661d",
            "a5c387036f9545678102df6e8317e2c8",
            "622275440b2c45caa137b4ffd61d3ae3",
            "620b456b365747e5b73a490ad0edcad7",
            "34b6d9e927054f1ca1477ae99a065615",
            "4cbedd4d8b964d639601327a2f063900",
            "ecd5b650e8b34ffaaf8ad1a426898a70",
            "5df0f538407b4b519b0429be7bd628cf",
            "73416bcf71cd4adaa223d3d14da644e5",
            "866c1705c63d45f6b0dd96d7a5d71b24"
          ]
        },
        "id": "X48F-r9rsVGh",
        "outputId": "090f9784-e7ef-4ab4-a1ea-f2e392623114"
      },
      "execution_count": 15,
      "outputs": [
        {
          "output_type": "stream",
          "name": "stderr",
          "text": [
            "Downloading: \"https://download.pytorch.org/models/resnet50-0676ba61.pth\" to /root/.cache/torch/hub/checkpoints/resnet50-0676ba61.pth\n"
          ]
        },
        {
          "output_type": "display_data",
          "data": {
            "text/plain": [
              "  0%|          | 0.00/97.8M [00:00<?, ?B/s]"
            ],
            "application/vnd.jupyter.widget-view+json": {
              "version_major": 2,
              "version_minor": 0,
              "model_id": "b0f84676ba954dae9c0e45344a3fb869"
            }
          },
          "metadata": {}
        },
        {
          "output_type": "stream",
          "name": "stderr",
          "text": [
            "Downloading: \"https://download.pytorch.org/models/resnet152-394f9c45.pth\" to /root/.cache/torch/hub/checkpoints/resnet152-394f9c45.pth\n"
          ]
        },
        {
          "output_type": "display_data",
          "data": {
            "text/plain": [
              "  0%|          | 0.00/230M [00:00<?, ?B/s]"
            ],
            "application/vnd.jupyter.widget-view+json": {
              "version_major": 2,
              "version_minor": 0,
              "model_id": "152fb8a25614463994919b9549d9a64c"
            }
          },
          "metadata": {}
        },
        {
          "output_type": "stream",
          "name": "stderr",
          "text": [
            "\u001b[34m\u001b[1mwandb\u001b[0m: Currently logged in as: \u001b[33mkokteubay-raiymbek\u001b[0m. Use \u001b[1m`wandb login --relogin`\u001b[0m to force relogin\n"
          ]
        },
        {
          "output_type": "display_data",
          "data": {
            "text/plain": [
              "<IPython.core.display.HTML object>"
            ],
            "text/html": [
              "Tracking run with wandb version 0.13.5"
            ]
          },
          "metadata": {}
        },
        {
          "output_type": "display_data",
          "data": {
            "text/plain": [
              "<IPython.core.display.HTML object>"
            ],
            "text/html": [
              "Run data is saved locally in <code>/content/drive/MyDrive/Bicycle_crash/wandb/run-20221116_125517-1z22xy65</code>"
            ]
          },
          "metadata": {}
        },
        {
          "output_type": "display_data",
          "data": {
            "text/plain": [
              "<IPython.core.display.HTML object>"
            ],
            "text/html": [
              "Syncing run <strong><a href=\"https://wandb.ai/kokteubay-raiymbek/Bicycle/runs/1z22xy65\" target=\"_blank\">resnet50</a></strong> to <a href=\"https://wandb.ai/kokteubay-raiymbek/Bicycle\" target=\"_blank\">Weights & Biases</a> (<a href=\"https://wandb.me/run\" target=\"_blank\">docs</a>)<br/>"
            ]
          },
          "metadata": {}
        },
        {
          "output_type": "stream",
          "name": "stdout",
          "text": [
            "Epoch 0 running\n",
            "[Train #0] Loss: 0.6110 Acc: 69.2440% Time: 53.6043s\n",
            "[Test #0] Loss: 0.5064 Acc: 75.1142% Time: 62.1282s\n",
            "Epoch 1 running\n",
            "[Train #1] Loss: 0.5194 Acc: 75.3723% Time: 111.4570s\n",
            "[Test #1] Loss: 0.4395 Acc: 80.5936% Time: 120.1986s\n",
            "Epoch 2 running\n",
            "[Train #2] Loss: 0.4554 Acc: 78.9233% Time: 162.6821s\n",
            "[Test #2] Loss: 0.5066 Acc: 77.6256% Time: 171.3509s\n",
            "Epoch 3 running\n",
            "[Train #3] Loss: 0.4001 Acc: 81.3288% Time: 213.3334s\n",
            "[Test #3] Loss: 0.6661 Acc: 71.6895% Time: 222.1092s\n",
            "Epoch 4 running\n",
            "[Train #4] Loss: 0.4232 Acc: 81.9015% Time: 264.2438s\n",
            "[Test #4] Loss: 0.5263 Acc: 78.9954% Time: 272.9059s\n",
            "Epoch 5 running\n",
            "[Train #5] Loss: 0.3596 Acc: 83.3906% Time: 315.1500s\n",
            "[Test #5] Loss: 0.6560 Acc: 74.8858% Time: 323.8623s\n",
            "Epoch 6 running\n",
            "[Train #6] Loss: 0.3462 Acc: 85.0516% Time: 365.0393s\n",
            "[Test #6] Loss: 0.4468 Acc: 80.5936% Time: 373.7514s\n",
            "Epoch 7 running\n",
            "[Train #7] Loss: 0.3287 Acc: 86.5979% Time: 415.2638s\n",
            "[Test #7] Loss: 0.5369 Acc: 81.2785% Time: 424.0349s\n",
            "Epoch 8 running\n",
            "[Train #8] Loss: 0.3168 Acc: 86.3116% Time: 464.8129s\n",
            "[Test #8] Loss: 0.5889 Acc: 80.3653% Time: 473.5843s\n",
            "Epoch 9 running\n",
            "[Train #9] Loss: 0.2787 Acc: 87.3998% Time: 515.0982s\n",
            "[Test #9] Loss: 0.6269 Acc: 78.0822% Time: 524.0981s\n"
          ]
        },
        {
          "output_type": "display_data",
          "data": {
            "text/plain": [
              "<IPython.core.display.HTML object>"
            ],
            "text/html": [
              "Finishing last run (ID:1z22xy65) before initializing another..."
            ]
          },
          "metadata": {}
        },
        {
          "output_type": "display_data",
          "data": {
            "text/plain": [
              "<IPython.core.display.HTML object>"
            ],
            "text/html": [
              "Waiting for W&B process to finish... <strong style=\"color:green\">(success).</strong>"
            ]
          },
          "metadata": {}
        },
        {
          "output_type": "display_data",
          "data": {
            "text/plain": [
              "VBox(children=(Label(value='0.001 MB of 0.001 MB uploaded (0.000 MB deduped)\\r'), FloatProgress(value=1.0, max…"
            ],
            "application/vnd.jupyter.widget-view+json": {
              "version_major": 2,
              "version_minor": 0,
              "model_id": "622275440b2c45caa137b4ffd61d3ae3"
            }
          },
          "metadata": {}
        },
        {
          "output_type": "display_data",
          "data": {
            "text/plain": [
              "<IPython.core.display.HTML object>"
            ],
            "text/html": [
              "<style>\n",
              "    table.wandb td:nth-child(1) { padding: 0 10px; text-align: left ; width: auto;} td:nth-child(2) {text-align: left ; width: 100%}\n",
              "    .wandb-row { display: flex; flex-direction: row; flex-wrap: wrap; justify-content: flex-start; width: 100% }\n",
              "    .wandb-col { display: flex; flex-direction: column; flex-basis: 100%; flex: 1; padding: 10px; }\n",
              "    </style>\n",
              "<div class=\"wandb-row\"><div class=\"wandb-col\"><h3>Run history:</h3><br/><table class=\"wandb\"><tr><td>test/accuracy</td><td>▄█▅▁▆▃██▇▆</td></tr><tr><td>test/loss</td><td>▃▁▃█▄█▁▄▆▇</td></tr><tr><td>train/accuracy</td><td>▁▃▅▆▆▆▇███</td></tr><tr><td>train/loss</td><td>█▆▅▄▄▃▂▂▂▁</td></tr></table><br/></div><div class=\"wandb-col\"><h3>Run summary:</h3><br/><table class=\"wandb\"><tr><td>test/accuracy</td><td>78.08218</td></tr><tr><td>test/loss</td><td>0.62695</td></tr><tr><td>train/accuracy</td><td>87.39977</td></tr><tr><td>train/loss</td><td>0.27872</td></tr></table><br/></div></div>"
            ]
          },
          "metadata": {}
        },
        {
          "output_type": "display_data",
          "data": {
            "text/plain": [
              "<IPython.core.display.HTML object>"
            ],
            "text/html": [
              "Synced <strong style=\"color:#cdcd00\">resnet50</strong>: <a href=\"https://wandb.ai/kokteubay-raiymbek/Bicycle/runs/1z22xy65\" target=\"_blank\">https://wandb.ai/kokteubay-raiymbek/Bicycle/runs/1z22xy65</a><br/>Synced 5 W&B file(s), 0 media file(s), 0 artifact file(s) and 0 other file(s)"
            ]
          },
          "metadata": {}
        },
        {
          "output_type": "display_data",
          "data": {
            "text/plain": [
              "<IPython.core.display.HTML object>"
            ],
            "text/html": [
              "Find logs at: <code>./wandb/run-20221116_125517-1z22xy65/logs</code>"
            ]
          },
          "metadata": {}
        },
        {
          "output_type": "display_data",
          "data": {
            "text/plain": [
              "<IPython.core.display.HTML object>"
            ],
            "text/html": [
              "Successfully finished last run (ID:1z22xy65). Initializing new run:<br/>"
            ]
          },
          "metadata": {}
        },
        {
          "output_type": "display_data",
          "data": {
            "text/plain": [
              "<IPython.core.display.HTML object>"
            ],
            "text/html": [
              "Tracking run with wandb version 0.13.5"
            ]
          },
          "metadata": {}
        },
        {
          "output_type": "display_data",
          "data": {
            "text/plain": [
              "<IPython.core.display.HTML object>"
            ],
            "text/html": [
              "Run data is saved locally in <code>/content/drive/MyDrive/Bicycle_crash/wandb/run-20221116_130402-2g7pokqi</code>"
            ]
          },
          "metadata": {}
        },
        {
          "output_type": "display_data",
          "data": {
            "text/plain": [
              "<IPython.core.display.HTML object>"
            ],
            "text/html": [
              "Syncing run <strong><a href=\"https://wandb.ai/kokteubay-raiymbek/Bicycle/runs/2g7pokqi\" target=\"_blank\">resnet152</a></strong> to <a href=\"https://wandb.ai/kokteubay-raiymbek/Bicycle\" target=\"_blank\">Weights & Biases</a> (<a href=\"https://wandb.me/run\" target=\"_blank\">docs</a>)<br/>"
            ]
          },
          "metadata": {}
        },
        {
          "output_type": "stream",
          "name": "stdout",
          "text": [
            "Epoch 0 running\n",
            "[Train #0] Loss: 0.6034 Acc: 69.2440% Time: 59.2138s\n",
            "[Test #0] Loss: 1.3418 Acc: 63.9269% Time: 68.8897s\n",
            "Epoch 1 running\n",
            "[Train #1] Loss: 0.5228 Acc: 74.3986% Time: 134.5656s\n",
            "[Test #1] Loss: 0.9359 Acc: 59.5890% Time: 144.1248s\n",
            "Epoch 2 running\n",
            "[Train #2] Loss: 0.5026 Acc: 75.2005% Time: 198.3861s\n",
            "[Test #2] Loss: 0.5347 Acc: 78.3105% Time: 208.0162s\n",
            "Epoch 3 running\n",
            "[Train #3] Loss: 0.4462 Acc: 78.3505% Time: 262.9208s\n",
            "[Test #3] Loss: 0.4710 Acc: 80.3653% Time: 272.3107s\n",
            "Epoch 4 running\n",
            "[Train #4] Loss: 0.4287 Acc: 80.4697% Time: 325.8176s\n",
            "[Test #4] Loss: 0.6813 Acc: 75.1142% Time: 335.3428s\n",
            "Epoch 5 running\n",
            "[Train #5] Loss: 0.3987 Acc: 82.5315% Time: 389.9796s\n",
            "[Test #5] Loss: 0.5151 Acc: 75.5708% Time: 399.5563s\n",
            "Epoch 6 running\n",
            "[Train #6] Loss: 0.3902 Acc: 82.9897% Time: 452.1417s\n",
            "[Test #6] Loss: 0.8468 Acc: 69.8630% Time: 461.7677s\n",
            "Epoch 7 running\n",
            "[Train #7] Loss: 0.3792 Acc: 82.9324% Time: 514.8138s\n",
            "[Test #7] Loss: 0.4720 Acc: 77.8539% Time: 524.3338s\n",
            "Epoch 8 running\n",
            "[Train #8] Loss: 0.3368 Acc: 84.9370% Time: 578.8118s\n",
            "[Test #8] Loss: 0.4930 Acc: 82.6484% Time: 588.3433s\n",
            "Epoch 9 running\n",
            "[Train #9] Loss: 0.3279 Acc: 85.2234% Time: 641.6316s\n",
            "[Test #9] Loss: 0.4357 Acc: 81.5069% Time: 651.1397s\n"
          ]
        }
      ]
    }
  ]
}